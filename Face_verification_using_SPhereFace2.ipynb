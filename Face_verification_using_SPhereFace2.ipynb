{
  "cells": [
    {
      "cell_type": "markdown",
      "metadata": {
        "id": "-WUJuk6AoUpl"
      },
      "source": [
        "# **Feature Extractor Transfer Training Using SFNet20 pretrained model with SPhereFace2 loss function**"
      ]
    },
    {
      "cell_type": "markdown",
      "metadata": {
        "id": "H85KjvmQp8Qf"
      },
      "source": [
        "## 0. Importing PyTorch and setting up device-agnostic code"
      ]
    },
    {
      "cell_type": "code",
      "execution_count": null,
      "metadata": {
        "colab": {
          "base_uri": "https://localhost:8080/"
        },
        "id": "L_rPe1F1Vf23",
        "outputId": "69e92824-d7e7-4307-e90c-353105bb8e86"
      },
      "outputs": [
        {
          "output_type": "stream",
          "name": "stdout",
          "text": [
            "[INFO] Couldn't find torchinfo... installing it.\n",
            "Cloning into 'opensphere'...\n",
            "remote: Enumerating objects: 636, done.\u001b[K\n",
            "remote: Counting objects: 100% (392/392), done.\u001b[K\n",
            "remote: Compressing objects: 100% (177/177), done.\u001b[K\n",
            "remote: Total 636 (delta 328), reused 255 (delta 214), pack-reused 244\u001b[K\n",
            "Receiving objects: 100% (636/636), 6.72 MiB | 24.67 MiB/s, done.\n",
            "Resolving deltas: 100% (359/359), done.\n"
          ]
        }
      ],
      "source": [
        "import matplotlib.pyplot as plt\n",
        "import torch\n",
        "import torchvision\n",
        "import os\n",
        "from torch import nn\n",
        "from torchvision import transforms\n",
        "\n",
        "# import torch.distributed as dist\n",
        "# import torch.utils.data.distributed\n",
        "\n",
        "# Try to get torchinfo, install it if it doesn't work\n",
        "try:\n",
        "    from torchinfo import summary\n",
        "except:\n",
        "    print(\"[INFO] Couldn't find torchinfo... installing it.\")\n",
        "    !pip install -q torchinfo\n",
        "    from torchinfo import summary\n",
        "\n",
        "# clone the opensphere github\n",
        "!git clone https://github.com/ydwen/opensphere"
      ]
    },
    {
      "cell_type": "code",
      "execution_count": null,
      "metadata": {
        "colab": {
          "base_uri": "https://localhost:8080/"
        },
        "id": "AY2fF-F-Hpjc",
        "outputId": "6fd356d8-cacb-4100-f813-204e39e7e720"
      },
      "outputs": [
        {
          "output_type": "stream",
          "name": "stdout",
          "text": [
            "Mounted at /content/drive\n"
          ]
        }
      ],
      "source": [
        "from google.colab import drive\n",
        "drive.mount('/content/drive', force_remount=True)"
      ]
    },
    {
      "cell_type": "code",
      "execution_count": null,
      "metadata": {
        "colab": {
          "base_uri": "https://localhost:8080/",
          "height": 35
        },
        "id": "2l546t1v23OL",
        "outputId": "0726d689-1372-43a7-a909-daf3671128bb"
      },
      "outputs": [
        {
          "output_type": "execute_result",
          "data": {
            "text/plain": [
              "'cuda'"
            ],
            "application/vnd.google.colaboratory.intrinsic+json": {
              "type": "string"
            }
          },
          "metadata": {},
          "execution_count": 3
        }
      ],
      "source": [
        "# Setup device agnostic code\n",
        "device = \"cuda\" if torch.cuda.is_available() else \"cpu\"\n",
        "device"
      ]
    },
    {
      "cell_type": "code",
      "execution_count": null,
      "metadata": {
        "colab": {
          "base_uri": "https://localhost:8080/"
        },
        "id": "0k83iIFr5hVj",
        "outputId": "d49d2e3b-6f6d-4bc2-a717-f77a70166e89"
      },
      "outputs": [
        {
          "output_type": "stream",
          "name": "stdout",
          "text": [
            "Sun May  7 04:46:06 2023       \n",
            "+-----------------------------------------------------------------------------+\n",
            "| NVIDIA-SMI 525.85.12    Driver Version: 525.85.12    CUDA Version: 12.0     |\n",
            "|-------------------------------+----------------------+----------------------+\n",
            "| GPU  Name        Persistence-M| Bus-Id        Disp.A | Volatile Uncorr. ECC |\n",
            "| Fan  Temp  Perf  Pwr:Usage/Cap|         Memory-Usage | GPU-Util  Compute M. |\n",
            "|                               |                      |               MIG M. |\n",
            "|===============================+======================+======================|\n",
            "|   0  Tesla T4            Off  | 00000000:00:04.0 Off |                    0 |\n",
            "| N/A   44C    P8     9W /  70W |      3MiB / 15360MiB |      0%      Default |\n",
            "|                               |                      |                  N/A |\n",
            "+-------------------------------+----------------------+----------------------+\n",
            "                                                                               \n",
            "+-----------------------------------------------------------------------------+\n",
            "| Processes:                                                                  |\n",
            "|  GPU   GI   CI        PID   Type   Process name                  GPU Memory |\n",
            "|        ID   ID                                                   Usage      |\n",
            "|=============================================================================|\n",
            "|  No running processes found                                                 |\n",
            "+-----------------------------------------------------------------------------+\n"
          ]
        }
      ],
      "source": [
        "!nvidia-smi"
      ]
    },
    {
      "cell_type": "markdown",
      "metadata": {
        "id": "wW8Z-04bqDTr"
      },
      "source": [
        "Define working path (make sure you have this folder on your working space, otherwise, you should write some codes to create it)"
      ]
    },
    {
      "cell_type": "code",
      "execution_count": null,
      "metadata": {
        "id": "aBCaHtTFCk28"
      },
      "outputs": [],
      "source": [
        "working_path = 'drive/MyDrive/SphereFace2' # you can modify this path to suit your working directory\n",
        "data_path = working_path + '/data'"
      ]
    },
    {
      "cell_type": "code",
      "execution_count": null,
      "metadata": {
        "id": "rQITa6tgFC2a"
      },
      "outputs": [],
      "source": [
        "origin_data_path = data_path + '/VN-celeb' \n",
        "train_dir = data_path + \"/train\"\n",
        "test_dir = data_path + \"/test\""
      ]
    },
    {
      "cell_type": "markdown",
      "metadata": {
        "id": "DsWD155wqNz3"
      },
      "source": [
        "## 1. Get and tranform data"
      ]
    },
    {
      "cell_type": "markdown",
      "metadata": {
        "id": "bf_b-eul2-63"
      },
      "source": [
        "### 1.1 Spliting the dataset into train and test set\n",
        "(Run this only if you not split your data yet)"
      ]
    },
    {
      "cell_type": "code",
      "execution_count": null,
      "metadata": {
        "id": "njpk8J7fXUr9"
      },
      "outputs": [],
      "source": [
        "import zipfile\n",
        "zip_ref = zipfile.open(os.path.join(origin_data_path, 'VN-celeb.zip'))\n",
        "zip_ref.extractall(origin_data_path)"
      ]
    },
    {
      "cell_type": "code",
      "execution_count": null,
      "metadata": {
        "id": "jzVSmLdKNQAW"
      },
      "outputs": [],
      "source": [
        "import os\n",
        "import shutil\n",
        "import random\n",
        "\n",
        "percentage = 80\n",
        "\n",
        "folders = os.listdir(origin_data_path)\n",
        "num_folders = len(folders)\n",
        "num_to_move = int(num_folders * percentage / 100)\n",
        "\n",
        "folders_to_move = random.sample(folders, num_to_move)\n",
        "\n",
        "for folder in folders_to_move:\n",
        "    folder_path = os.path.join(origin_data_path, folder)\n",
        "    dest_path = os.path.join(train_dir, folder)\n",
        "    shutil.move(folder_path, dest_path)"
      ]
    },
    {
      "cell_type": "code",
      "execution_count": null,
      "metadata": {
        "id": "y4HSRIAsPNjN"
      },
      "outputs": [],
      "source": [
        "for folder in [ele for ele in folders if ele not in folders_to_move]:\n",
        "    folder_path = os.path.join(origin_data_path, folder)\n",
        "    dest_path = os.path.join(test_dir, folder)\n",
        "    shutil.move(folder_path, dest_path)"
      ]
    },
    {
      "cell_type": "code",
      "execution_count": null,
      "metadata": {
        "id": "NyJcZbvIQTRO"
      },
      "outputs": [],
      "source": [
        "def walk_through_dir(dir_path):\n",
        "  \"\"\"Walks through dir_path returning its contents.\"\"\"\n",
        "  for dirpath, dirnames, filenames in os.walk(dir_path):\n",
        "    print(f\"There are {len(dirnames)} directories and {len(filenames)} images in '{dirpath}'.\")"
      ]
    },
    {
      "cell_type": "code",
      "execution_count": null,
      "metadata": {
        "id": "Z9Sovgy1QUyJ"
      },
      "outputs": [],
      "source": [
        "walk_through_dir(train_dir)"
      ]
    },
    {
      "cell_type": "code",
      "execution_count": null,
      "metadata": {
        "id": "oxyLo4ioQk-u"
      },
      "outputs": [],
      "source": [
        "walk_through_dir(test_dir)"
      ]
    },
    {
      "cell_type": "code",
      "execution_count": null,
      "metadata": {
        "colab": {
          "base_uri": "https://localhost:8080/",
          "height": 217
        },
        "id": "-93ilpy9SIT9",
        "outputId": "16d8398e-80fa-4953-bc89-6f2140472a1c"
      },
      "outputs": [
        {
          "name": "stdout",
          "output_type": "stream",
          "text": [
            "Random image path: drive/MyDrive/SphereFace2/data/test/51/12.png\n",
            "Image class: 51\n",
            "Image height: 128\n",
            "Image width: 128\n"
          ]
        },
        {
          "data": {
            "image/png": "[encoded data removed]",
            "text/plain": [
              "<PIL.PngImagePlugin.PngImageFile image mode=RGB size=128x128 at 0x7F43C8037250>"
            ]
          },
          "execution_count": 8,
          "metadata": {},
          "output_type": "execute_result"
        }
      ],
      "source": [
        "import random \n",
        "from PIL import Image\n",
        "from pathlib import Path\n",
        "\n",
        "# Set seed\n",
        "# random.seed(42)\n",
        "\n",
        "# 1. Get all image paths \n",
        "image_path_list = list(Path(data_path).glob(\"*/*/*.png\"))\n",
        "\n",
        "# 2. Pick a random image path\n",
        "random_image_path = random.choice(image_path_list)\n",
        "\n",
        "# 3. Get image class from path name (the image class is the name of the directory where the image is stored)\n",
        "image_class = random_image_path.parent.stem\n",
        "\n",
        "# 4. Open image\n",
        "img = Image.open(random_image_path)\n",
        "\n",
        "# 5. Print metadata \n",
        "print(f\"Random image path: {random_image_path}\")\n",
        "print(f\"Image class: {image_class}\")\n",
        "print(f\"Image height: {img.height}\")\n",
        "print(f\"Image width: {img.width}\")\n",
        "img"
      ]
    },
    {
      "cell_type": "markdown",
      "metadata": {
        "id": "BbtAinxp-i8b"
      },
      "source": [
        "Function to create pair of image for test set and save the label into a csv file"
      ]
    },
    {
      "cell_type": "code",
      "execution_count": null,
      "metadata": {
        "id": "IzFcwZ5D-g79"
      },
      "outputs": [],
      "source": [
        "import os\n",
        "import csv\n",
        "import random\n",
        "\n",
        "def generate_csv_file(dataset_path, csv_file_path):\n",
        "    # Create a list of class names\n",
        "    class_names = os.listdir(dataset_path)\n",
        "\n",
        "    # Create a dictionary to store image paths by class\n",
        "    image_paths_by_class = {}\n",
        "    for class_name in class_names:\n",
        "        class_path = os.path.join(dataset_path, class_name)\n",
        "        image_names = os.listdir(class_path)\n",
        "        image_paths = [os.path.join(class_path, image_name) for image_name in image_names]\n",
        "        image_paths_by_class[class_name] = image_paths\n",
        "\n",
        "    # Create a list of all possible image pairs\n",
        "    image_pairs = []\n",
        "    for class_name in class_names:\n",
        "        image_paths = image_paths_by_class[class_name]\n",
        "        for i in range(len(image_paths)):\n",
        "            for j in range(i + 1, len(image_paths)):\n",
        "                image_pairs.append((image_paths[i], image_paths[j], 1))\n",
        "\n",
        "    # Add an equal number of non-matching image pairs\n",
        "    num_pairs_per_class = len(image_pairs) // len(class_names)\n",
        "    for class_name in class_names:\n",
        "        image_paths = image_paths_by_class[class_name]\n",
        "        other_class_names = [n for n in class_names if n != class_name]\n",
        "        for i in range(num_pairs_per_class):\n",
        "            other_class_name = random.choice(other_class_names)\n",
        "            other_image_path = random.choice(image_paths_by_class[other_class_name])\n",
        "            image_path = random.choice(image_paths)\n",
        "            image_pairs.append((image_path, other_image_path, 0))\n",
        "\n",
        "    # Shuffle the image pairs\n",
        "    random.shuffle(image_pairs)\n",
        "\n",
        "    with open(csv_file_path, 'w', newline='') as csv_file:\n",
        "      writer = csv.writer(csv_file)\n",
        "      for pair in image_pairs:\n",
        "        writer.writerow(pair)\n"
      ]
    },
    {
      "cell_type": "code",
      "execution_count": null,
      "metadata": {
        "id": "ktpxaiC3PVFS"
      },
      "outputs": [],
      "source": [
        "generate_csv_file(test_dir, os.path.join(test_dir, 'test_set.csv'))"
      ]
    },
    {
      "cell_type": "markdown",
      "metadata": {
        "id": "gPSoQLZk-XXy"
      },
      "source": [
        "### 1.2 Transform input image shape and load the dataset into the dataloader"
      ]
    },
    {
      "cell_type": "markdown",
      "source": [
        "#### 1.2.0 Helper functions"
      ],
      "metadata": {
        "id": "rkHedNO2kPwa"
      }
    },
    {
      "cell_type": "markdown",
      "source": [
        "\n",
        "\n",
        "> Create a custom dataset class for test set\n",
        "\n"
      ],
      "metadata": {
        "id": "278Vhn87kX57"
      }
    },
    {
      "cell_type": "code",
      "source": [
        "from torchvision import datasets\n",
        "import pandas as pd\n",
        "from PIL import Image\n",
        "from torch.utils.data import Dataset\n",
        "from torch.utils.data import DataLoader\n",
        "\n",
        "# Build a custom dataset class for test dataset\n",
        "class TestDataset(Dataset):\n",
        "    def __init__(self, annotations_file, transform=None, target_transform=None):\n",
        "        self.img_labels = pd.read_csv(annotations_file)\n",
        "        self.transform = transform\n",
        "        self.target_transform = target_transform\n",
        "\n",
        "    def __len__(self):\n",
        "        return len(self.img_labels)\n",
        "\n",
        "    def __getitem__(self, idx):\n",
        "        img1_path = self.img_labels.iloc[idx, 0]\n",
        "        img2_path = self.img_labels.iloc[idx, 1]\n",
        "        image1 = Image.open(img1_path)\n",
        "        image2 = Image.open(img2_path)\n",
        "        label = self.img_labels.iloc[idx, 2]\n",
        "        if self.transform:\n",
        "            image1 = self.transform(image1)\n",
        "            image2 = self.transform(image2)\n",
        "        if self.target_transform:\n",
        "            label = self.target_transform(label)\n",
        "        return image1, image2, label"
      ],
      "metadata": {
        "id": "bzSCAoFHkXDk"
      },
      "execution_count": null,
      "outputs": []
    },
    {
      "cell_type": "markdown",
      "source": [
        "#### 1.2.1 Prepare data for training and testing SFNet20 model"
      ],
      "metadata": {
        "id": "WVd0C5Imk1rV"
      }
    },
    {
      "cell_type": "code",
      "execution_count": null,
      "metadata": {
        "id": "ng_oQ4-AVOPB"
      },
      "outputs": [],
      "source": [
        "normalize = transforms.Normalize(mean=[0.5, 0.5, 0.5],\n",
        "                                 std=[0.5, 0.5, 0.5])\n",
        "data_transform = transforms.Compose([\n",
        "  # Resize our images to 112x112\n",
        "  transforms.Resize(size=(112, 112)),\n",
        "  # Turn the image into a torch.Tensor\n",
        "  transforms.ToTensor(),\n",
        "  normalize\n",
        "])"
      ]
    },
    {
      "cell_type": "code",
      "execution_count": null,
      "metadata": {
        "id": "onDidBvsb_th"
      },
      "outputs": [],
      "source": [
        "# Use ImageFolder to create train dataset\n",
        "train_data = datasets.ImageFolder(root=train_dir,\n",
        "                                  transform=data_transform, # a transform for the data\n",
        "                                  target_transform=None) # a transform for the label/target \n",
        "\n",
        "# Use above class to create test dataset\n",
        "test_data = TestDataset(annotations_file=os.path.join(test_dir, 'test_set.csv'), \n",
        "                        transform=data_transform)"
      ]
    },
    {
      "cell_type": "markdown",
      "metadata": {
        "id": "085T5Bb73Z0X"
      },
      "source": [
        "Have a look at our data"
      ]
    },
    {
      "cell_type": "code",
      "execution_count": null,
      "metadata": {
        "colab": {
          "base_uri": "https://localhost:8080/"
        },
        "id": "1BDHdPwHcw0e",
        "outputId": "7b744e5d-b9cb-4a43-f10e-609fc006daf7"
      },
      "outputs": [
        {
          "output_type": "execute_result",
          "data": {
            "text/plain": [
              "(18633, 142963)"
            ]
          },
          "metadata": {},
          "execution_count": 10
        }
      ],
      "source": [
        "len(train_data), len(test_data)"
      ]
    },
    {
      "cell_type": "code",
      "execution_count": null,
      "metadata": {
        "colab": {
          "base_uri": "https://localhost:8080/"
        },
        "id": "8vubLdRpYAEw",
        "outputId": "3e3bad55-bb92-4d73-89fa-723dd60b3a4d"
      },
      "outputs": [
        {
          "output_type": "execute_result",
          "data": {
            "text/plain": [
              "(tensor([[[ 0.2235, -0.1373, -0.4667,  ..., -0.0980,  0.4824,  0.8118],\n",
              "          [-0.2706, -0.4745, -0.6078,  ..., -0.3725,  0.1843,  0.6314],\n",
              "          [-0.6549, -0.6941, -0.7176,  ..., -0.5608, -0.1451,  0.3647],\n",
              "          ...,\n",
              "          [-0.8431, -0.7804, -0.6941,  ..., -0.8353, -0.8196, -0.7882],\n",
              "          [-0.8588, -0.8039, -0.7176,  ..., -0.8275, -0.8196, -0.7961],\n",
              "          [-0.8588, -0.8275, -0.7490,  ..., -0.8275, -0.8118, -0.7882]],\n",
              " \n",
              "         [[ 0.2863, -0.1059, -0.4745,  ...,  0.0353,  0.6000,  0.8745],\n",
              "          [-0.2549, -0.4745, -0.6157,  ..., -0.2314,  0.3333,  0.7412],\n",
              "          [-0.6549, -0.7020, -0.7333,  ..., -0.4431,  0.0039,  0.4980],\n",
              "          ...,\n",
              "          [-0.7961, -0.7412, -0.6706,  ..., -0.7961, -0.7647, -0.7412],\n",
              "          [-0.8196, -0.7725, -0.6941,  ..., -0.7882, -0.7647, -0.7412],\n",
              "          [-0.8353, -0.7882, -0.7176,  ..., -0.7804, -0.7569, -0.7333]],\n",
              " \n",
              "         [[ 0.2392, -0.1216, -0.4510,  ...,  0.1137,  0.6392,  0.8980],\n",
              "          [-0.2627, -0.4588, -0.5922,  ..., -0.1451,  0.3804,  0.7647],\n",
              "          [-0.6235, -0.6627, -0.6941,  ..., -0.3255,  0.0667,  0.5294],\n",
              "          ...,\n",
              "          [-0.6471, -0.5843, -0.5059,  ..., -0.6392, -0.6157, -0.5922],\n",
              "          [-0.6627, -0.6157, -0.5294,  ..., -0.6314, -0.6157, -0.5922],\n",
              "          [-0.6784, -0.6314, -0.5529,  ..., -0.6235, -0.6078, -0.5843]]]),\n",
              " 0)"
            ]
          },
          "metadata": {},
          "execution_count": 11
        }
      ],
      "source": [
        "train_data[0]"
      ]
    },
    {
      "cell_type": "code",
      "execution_count": null,
      "metadata": {
        "colab": {
          "base_uri": "https://localhost:8080/"
        },
        "id": "Tr6UrL65YZ85",
        "outputId": "18d1463f-acc1-4466-c253-73d049a7e787"
      },
      "outputs": [
        {
          "output_type": "execute_result",
          "data": {
            "text/plain": [
              "(tensor([[[-0.8902, -0.8980, -0.8980,  ..., -0.8588, -0.8510, -0.8118],\n",
              "          [-0.8824, -0.8902, -0.8980,  ..., -0.8196, -0.8196, -0.7882],\n",
              "          [-0.8745, -0.8824, -0.9059,  ..., -0.7098, -0.7176, -0.7098],\n",
              "          ...,\n",
              "          [ 0.2000,  0.2078,  0.2078,  ..., -0.5922, -0.5843, -0.5843],\n",
              "          [ 0.2000,  0.2078,  0.1922,  ..., -0.5843, -0.5686, -0.5686],\n",
              "          [ 0.1765,  0.1922,  0.1843,  ..., -0.5765, -0.5686, -0.5686]],\n",
              " \n",
              "         [[-0.9765, -0.9686, -0.9608,  ..., -0.9373, -0.9373, -0.9216],\n",
              "          [-0.9686, -0.9686, -0.9608,  ..., -0.8980, -0.9137, -0.9059],\n",
              "          [-0.9765, -0.9686, -0.9608,  ..., -0.8588, -0.8980, -0.9137],\n",
              "          ...,\n",
              "          [-0.5765, -0.5843, -0.5843,  ..., -0.7020, -0.7020, -0.7020],\n",
              "          [-0.5922, -0.6000, -0.5922,  ..., -0.6706, -0.6706, -0.6784],\n",
              "          [-0.5922, -0.6000, -0.5922,  ..., -0.6549, -0.6627, -0.6784]],\n",
              " \n",
              "         [[-0.9843, -0.9843, -0.9765,  ..., -0.9608, -0.9451, -0.9216],\n",
              "          [-0.9843, -0.9765, -0.9765,  ..., -0.9216, -0.9137, -0.8824],\n",
              "          [-0.9843, -0.9765, -0.9686,  ..., -0.9294, -0.8902, -0.8510],\n",
              "          ...,\n",
              "          [-0.9686, -0.9765, -0.9686,  ..., -0.9765, -0.9765, -0.9765],\n",
              "          [-0.9843, -0.9922, -0.9765,  ..., -0.9686, -0.9686, -0.9686],\n",
              "          [-0.9843, -0.9922, -0.9686,  ..., -0.9529, -0.9608, -0.9765]]]),\n",
              " tensor([[[-0.8745, -0.8667, -0.8588,  ..., -0.7490, -0.7882, -0.8745],\n",
              "          [-0.8902, -0.8588, -0.8431,  ..., -0.7490, -0.7804, -0.8667],\n",
              "          [-0.8667, -0.8353, -0.8118,  ..., -0.7647, -0.7882, -0.8588],\n",
              "          ...,\n",
              "          [-0.9529, -0.9451, -0.9451,  ..., -0.9843, -0.9765, -0.9451],\n",
              "          [-0.9529, -0.9529, -0.9529,  ..., -0.9843, -1.0000, -0.9922],\n",
              "          [-0.9529, -0.9529, -0.9529,  ..., -0.9843, -1.0000, -1.0000]],\n",
              " \n",
              "         [[-0.7725, -0.7647, -0.7804,  ..., -0.2784, -0.2549, -0.2863],\n",
              "          [-0.7882, -0.7725, -0.7647,  ..., -0.3176, -0.2863, -0.3098],\n",
              "          [-0.7804, -0.7569, -0.7412,  ..., -0.3725, -0.3412, -0.3412],\n",
              "          ...,\n",
              "          [-0.9137, -0.9059, -0.9059,  ..., -0.9373, -0.9451, -0.9137],\n",
              "          [-0.9059, -0.8980, -0.8980,  ..., -0.9294, -0.9529, -0.9608],\n",
              "          [-0.8980, -0.8980, -0.8980,  ..., -0.9529, -0.9686, -0.9765]],\n",
              " \n",
              "         [[-0.7255, -0.7176, -0.7333,  ..., -0.3569, -0.3333, -0.3882],\n",
              "          [-0.7412, -0.7255, -0.7098,  ..., -0.3804, -0.3569, -0.4039],\n",
              "          [-0.7255, -0.7020, -0.6863,  ..., -0.4275, -0.4039, -0.4196],\n",
              "          ...,\n",
              "          [-0.8667, -0.8588, -0.8588,  ..., -0.9137, -0.9216, -0.8667],\n",
              "          [-0.8588, -0.8510, -0.8510,  ..., -0.9137, -0.9373, -0.9216],\n",
              "          [-0.8510, -0.8510, -0.8510,  ..., -0.9294, -0.9451, -0.9529]]]),\n",
              " 1)"
            ]
          },
          "metadata": {},
          "execution_count": 12
        }
      ],
      "source": [
        "test_data[1]"
      ]
    },
    {
      "cell_type": "markdown",
      "metadata": {
        "id": "KHLk4FGY3kI2"
      },
      "source": [
        "Load data into dataloader"
      ]
    },
    {
      "cell_type": "code",
      "execution_count": null,
      "metadata": {
        "id": "dhhju9l8ipW0"
      },
      "outputs": [],
      "source": [
        "train_dataloader = DataLoader(train_data, batch_size=1024, shuffle=True, pin_memory=True)\n",
        "test_dataloader = DataLoader(test_data, batch_size=1024, shuffle=True, pin_memory=True)"
      ]
    },
    {
      "cell_type": "markdown",
      "metadata": {
        "id": "9AdwZUMR3mYw"
      },
      "source": [
        "## 2. Base Model\n",
        "For Face Verification problem, we decided to use a pretrained backbone classification model and then do tranfer learning (feature extraction) using the SphereFace2 loss function."
      ]
    },
    {
      "cell_type": "markdown",
      "metadata": {
        "id": "F_uRXUIFwKJv"
      },
      "source": [
        "### 2.0 Build functions to train and test the model"
      ]
    },
    {
      "cell_type": "code",
      "execution_count": null,
      "metadata": {
        "id": "_KtrmrWouyXT"
      },
      "outputs": [],
      "source": [
        "\"\"\"\n",
        "Functions for training a PyTorch model.\n",
        "\"\"\"\n",
        "import torch\n",
        "import torch.nn.functional as F\n",
        "from tqdm.auto import tqdm\n",
        "from typing import Dict, List, Tuple\n",
        "\n",
        "def train_step(model: torch.nn.Module, \n",
        "               dataloader: torch.utils.data.DataLoader, \n",
        "               loss_fn: torch.nn.Module, \n",
        "               optimizer: torch.optim.Optimizer,\n",
        "               device: torch.device) -> float:\n",
        "    \n",
        "    # Put model in train mode\n",
        "    model.train()\n",
        "\n",
        "    # Setup train loss and train accuracy values\n",
        "    train_loss, train_acc = 0, 0\n",
        "\n",
        "    # Loop through data loader data batches\n",
        "    for batch, (X, y) in enumerate(dataloader):\n",
        "        # Send data to target device\n",
        "        X, y = X.to(device), y.to(device)\n",
        "\n",
        "        # 1. Forward pass\n",
        "        y_pred = model(X)\n",
        "\n",
        "        # 2. Calculate  and accumulate loss\n",
        "        loss = loss_fn(y_pred, y)\n",
        "        train_loss += loss.item() \n",
        "\n",
        "        # 3. Optimizer zero grad\n",
        "        optimizer.zero_grad()\n",
        "\n",
        "        # 4. Loss backward\n",
        "        loss.backward()\n",
        "\n",
        "        # 5. Optimizer step\n",
        "        optimizer.step()\n",
        "\n",
        "        # Calculate and accumulate accuracy metric across all batches\n",
        "        # y_pred_class = torch.argmax(torch.softmax(y_pred, dim=1), dim=1)\n",
        "        # train_acc += (y_pred_class == y).sum().item()/len(y_pred)\n",
        "\n",
        "    # Adjust metrics to get average loss and accuracy per batch \n",
        "    train_loss = train_loss / len(dataloader)\n",
        "    # train_acc = train_acc / len(dataloader)\n",
        "    return train_loss\n",
        "\n",
        "def train(model: torch.nn.Module, \n",
        "          train_dataloader: torch.utils.data.DataLoader, \n",
        "          optimizer: torch.optim.Optimizer,\n",
        "          loss_fn: torch.nn.Module,\n",
        "          epochs: int,\n",
        "          device: torch.device,\n",
        "          train_checkpoint_path: str,\n",
        "          train_loss_checkpoint_path: str,\n",
        "          best_train_checkpoint_path: str\n",
        "          ) -> Dict[str, List]:\n",
        "    \n",
        "    # Make sure model on target device\n",
        "    model.to(device)\n",
        "\n",
        "    # Load Checkpoint\n",
        "    train_checkpoint = torch.load(train_checkpoint_path)\n",
        "    model.load_state_dict(train_checkpoint['model_state_dict'])\n",
        "    loss_fn.load_state_dict(train_checkpoint['head_state_dict'])\n",
        "    optimizer.load_state_dict(train_checkpoint['optimizer_state_dict'])\n",
        "    prev_epoch = train_checkpoint['epoch']\n",
        "\n",
        "    results = torch.load(train_loss_checkpoint_path)\n",
        "\n",
        "    # Loop through training and testing steps for a number of epochs\n",
        "    for epoch in tqdm(range(prev_epoch, epochs)):\n",
        "        train_loss = train_step(model=model,\n",
        "                                dataloader=train_dataloader,\n",
        "                                loss_fn=loss_fn,\n",
        "                                optimizer=optimizer,\n",
        "                                device=device)\n",
        "\n",
        "        # Print out what's happening\n",
        "        print(\n",
        "          f\"Epoch: {epoch+1} | \"\n",
        "          f\"train_loss: {train_loss:.4f} | \"\n",
        "          # f\"train_acc: {train_acc:.4f} | \"\n",
        "        )\n",
        "\n",
        "        # Update results dictionary\n",
        "        results.append(train_loss)\n",
        "\n",
        "        # save checkpoint\n",
        "\n",
        "        # check whether this is the best loss\n",
        "        if os.path.exists(best_train_checkpoint_path):\n",
        "            best_train_checkpoint = torch.load(best_train_checkpoint_path)\n",
        "            if best_train_checkpoint['loss'] > train_loss:\n",
        "                torch.save({\n",
        "                    'epoch': epoch+1,\n",
        "                    'model_state_dict': model.state_dict(),\n",
        "                    'head_state_dict': loss_fn.state_dict(),\n",
        "                    'optimizer_state_dict': optimizer.state_dict(),\n",
        "                    'loss': train_loss\n",
        "                }, best_train_checkpoint_path)\n",
        "        else:\n",
        "            torch.save({\n",
        "                'epoch': epoch+1,\n",
        "                'model_state_dict': model.state_dict(),\n",
        "                'head_state_dict': loss_fn.state_dict(),\n",
        "                'optimizer_state_dict': optimizer.state_dict(),\n",
        "                'loss': train_loss\n",
        "            }, best_train_checkpoint_path)\n",
        "\n",
        "        # save train checkpoint\n",
        "        torch.save({\n",
        "            'epoch': epoch+1,\n",
        "            'model_state_dict': model.state_dict(),\n",
        "            'head_state_dict': loss_fn.state_dict(),\n",
        "            'optimizer_state_dict': optimizer.state_dict(),\n",
        "        }, train_checkpoint_path)\n",
        "        \n",
        "        # save loss checkpoint\n",
        "        torch.save(results, train_loss_checkpoint_path)\n",
        "\n",
        "    # Return the filled results at the end of the epochs\n",
        "    return results"
      ]
    },
    {
      "cell_type": "code",
      "execution_count": null,
      "metadata": {
        "id": "xfNY08xQu7kZ"
      },
      "outputs": [],
      "source": [
        "\"\"\"\n",
        "Functions for testing a PyTorch model.\n",
        "\"\"\"\n",
        "def test_step(model: torch.nn.Module, \n",
        "              dataloader: torch.utils.data.DataLoader, \n",
        "              device: torch.device) -> Tuple[float, float]:\n",
        "    # Put model in eval mode\n",
        "    model.eval()\n",
        "\n",
        "    # Setup test loss and test accuracy values\n",
        "    thresholds = torch.FloatTensor([-1 + 0.01*x for x in range(201)]).to(device)\n",
        "    tp = torch.zeros_like(thresholds).to(device)\n",
        "    fp = torch.zeros_like(thresholds).to(device)\n",
        "    tn = torch.zeros_like(thresholds).to(device)\n",
        "    fn = torch.zeros_like(thresholds).to(device)\n",
        "\n",
        "    # Turn on inference context manager\n",
        "    with torch.inference_mode():\n",
        "        # Loop through DataLoader batches\n",
        "        for batch, (X1, X2, y) in enumerate(dataloader):\n",
        "            # Send data to target device\n",
        "            X1, X2, y = X1.to(device), X2.to(device), y.to(device)\n",
        "\n",
        "            # 1. Forward pass\n",
        "            embeding1 = model(X1)\n",
        "            embeding2 = model(X2)\n",
        "            embeding1_norm = F.normalize(embeding1, dim=1)\n",
        "            embeding2_norm = F.normalize(embeding2, dim=1)\n",
        "            test_pred_logits = torch.sum(input=torch.mul(embeding1_norm, embeding2_norm), dim=1, keepdim=False)\n",
        "            \n",
        "            # Calculate and accumulate accuracy, tp, tn, fp, fn\n",
        "            for i in range(201):\n",
        "                test_pred = torch.where(test_pred_logits >= thresholds[i], 1.0, 0.0)\n",
        "                tp[i] += torch.sum(torch.where(test_pred == 1.0, y, 0.0))\n",
        "                tn[i] += torch.sum(torch.where(test_pred == 0.0, torch.subtract(1.0,y), 0.0))\n",
        "                fp[i] += torch.sum(torch.where(test_pred == 1.0, torch.subtract(1.0,y), 0.0))\n",
        "                fn[i] += torch.sum(torch.where(test_pred == 0.0, y, 0.0))\n",
        "\n",
        "    # Calculate tpr, fpr for ploting ROC curve\n",
        "    tpr = tp / (tp + fn)\n",
        "    fpr = fp / (fp + tn)\n",
        "    acc = (tp + tn) / (tp + fn + fp + tn)\n",
        "    return thresholds, tpr, fpr, acc"
      ]
    },
    {
      "cell_type": "code",
      "execution_count": null,
      "metadata": {
        "colab": {
          "base_uri": "https://localhost:8080/"
        },
        "id": "roqMN8VcFQxG",
        "outputId": "7751a4d9-5bfc-4af4-d742-13a346d5e644"
      },
      "outputs": [
        {
          "output_type": "execute_result",
          "data": {
            "text/plain": [
              "816"
            ]
          },
          "metadata": {},
          "execution_count": 16
        }
      ],
      "source": [
        "class_num = len(train_data.classes)\n",
        "class_num"
      ]
    },
    {
      "cell_type": "markdown",
      "metadata": {
        "id": "AkQQCfsbo9qQ"
      },
      "source": [
        "\n",
        "\n",
        "> Import SFNet20 model and sphereface2 loss from openphere\n",
        "\n"
      ]
    },
    {
      "cell_type": "code",
      "execution_count": null,
      "metadata": {
        "id": "qH1exNzpvMwV"
      },
      "outputs": [],
      "source": [
        "from opensphere.model.backbone import sfnet\n",
        "from opensphere.model.head import sphereface2"
      ]
    },
    {
      "cell_type": "markdown",
      "source": [
        "\n",
        "\n",
        "> Function to plotting loss curve\n",
        "\n"
      ],
      "metadata": {
        "id": "y-SSuJoghAmq"
      }
    },
    {
      "cell_type": "code",
      "execution_count": null,
      "metadata": {
        "id": "xvYRlF1YGvg4"
      },
      "outputs": [],
      "source": [
        "def plot_loss_curves(train_loss):\n",
        "    \"\"\"Plots training curves of a results dictionary.\n",
        "    Args:\n",
        "        results (dict): dictionary containing list of values, e.g.\n",
        "            {\"train_loss\": [...],\n",
        "             \"train_acc\": [...],\n",
        "             \"test_loss\": [...],\n",
        "             \"test_acc\": [...]}\n",
        "    \"\"\"\n",
        "\n",
        "    epochs = range(len(train_loss))\n",
        "\n",
        "    plt.figure(figsize=(30, 7))\n",
        "\n",
        "    # Plot loss\n",
        "    plt.subplot(1, 2, 1)\n",
        "    plt.plot(epochs, train_loss, label=\"train_loss\")\n",
        "    plt.title(\"Loss\")\n",
        "    plt.xlabel(\"Epochs\")\n",
        "    plt.legend()"
      ]
    },
    {
      "cell_type": "markdown",
      "metadata": {
        "id": "JU3IyOcc4eTt"
      },
      "source": [
        "### 2.1 Building the model using SFNet20 as backbone:"
      ]
    },
    {
      "cell_type": "markdown",
      "metadata": {
        "id": "nGrRZJ9cpR1M"
      },
      "source": [
        "\n",
        "\n",
        "> Load the pretrained state_dict of the SFNet20 from opensphere and transform it into state_dict without DataParallel\n",
        "\n"
      ]
    },
    {
      "cell_type": "code",
      "execution_count": null,
      "metadata": {
        "id": "qjcRIP5iNl3M"
      },
      "outputs": [],
      "source": [
        "state_dict = torch.load('drive/MyDrive/SphereFace2/pretrained_weights/backbone_100000.pth')\n",
        "# create new OrderedDict that does not contain `module.`\n",
        "from collections import OrderedDict\n",
        "new_state_dict = OrderedDict()\n",
        "for k, v in state_dict.items():\n",
        "    name = k[7:] # remove `module.`\n",
        "    new_state_dict[name] = v\n",
        "# load params\n",
        "new_state_dict"
      ]
    },
    {
      "cell_type": "markdown",
      "metadata": {
        "id": "8cCQXntMqQOj"
      },
      "source": [
        "\n",
        "\n",
        "> Initialize the base model and load the weights from state_dict\n",
        "\n"
      ]
    },
    {
      "cell_type": "code",
      "execution_count": null,
      "metadata": {
        "colab": {
          "base_uri": "https://localhost:8080/"
        },
        "id": "khMnkDPmVzZz",
        "outputId": "9f5c1e83-21d6-4861-9cd2-96f41136f1ff"
      },
      "outputs": [
        {
          "output_type": "execute_result",
          "data": {
            "text/plain": [
              "SFNet(\n",
              "  (features): Identity()\n",
              "  (layer1): Sequential(\n",
              "    (0): ConvBlock(\n",
              "      (conv1): Conv2d(3, 64, kernel_size=(3, 3), stride=(2, 2), padding=(1, 1))\n",
              "      (bn1): Identity()\n",
              "      (relu): ReLU(inplace=True)\n",
              "    )\n",
              "    (1): BasicBlock(\n",
              "      (conv1): Conv2d(64, 64, kernel_size=(3, 3), stride=(1, 1), padding=(1, 1))\n",
              "      (bn1): Identity()\n",
              "      (relu): ReLU(inplace=True)\n",
              "      (conv2): Conv2d(64, 64, kernel_size=(3, 3), stride=(1, 1), padding=(1, 1))\n",
              "      (bn2): Identity()\n",
              "    )\n",
              "  )\n",
              "  (layer2): Sequential(\n",
              "    (0): ConvBlock(\n",
              "      (conv1): Conv2d(64, 128, kernel_size=(3, 3), stride=(2, 2), padding=(1, 1))\n",
              "      (bn1): Identity()\n",
              "      (relu): ReLU(inplace=True)\n",
              "    )\n",
              "    (1): BasicBlock(\n",
              "      (conv1): Conv2d(128, 128, kernel_size=(3, 3), stride=(1, 1), padding=(1, 1))\n",
              "      (bn1): Identity()\n",
              "      (relu): ReLU(inplace=True)\n",
              "      (conv2): Conv2d(128, 128, kernel_size=(3, 3), stride=(1, 1), padding=(1, 1))\n",
              "      (bn2): Identity()\n",
              "    )\n",
              "    (2): BasicBlock(\n",
              "      (conv1): Conv2d(128, 128, kernel_size=(3, 3), stride=(1, 1), padding=(1, 1))\n",
              "      (bn1): Identity()\n",
              "      (relu): ReLU(inplace=True)\n",
              "      (conv2): Conv2d(128, 128, kernel_size=(3, 3), stride=(1, 1), padding=(1, 1))\n",
              "      (bn2): Identity()\n",
              "    )\n",
              "  )\n",
              "  (layer3): Sequential(\n",
              "    (0): ConvBlock(\n",
              "      (conv1): Conv2d(128, 256, kernel_size=(3, 3), stride=(2, 2), padding=(1, 1))\n",
              "      (bn1): Identity()\n",
              "      (relu): ReLU(inplace=True)\n",
              "    )\n",
              "    (1): BasicBlock(\n",
              "      (conv1): Conv2d(256, 256, kernel_size=(3, 3), stride=(1, 1), padding=(1, 1))\n",
              "      (bn1): Identity()\n",
              "      (relu): ReLU(inplace=True)\n",
              "      (conv2): Conv2d(256, 256, kernel_size=(3, 3), stride=(1, 1), padding=(1, 1))\n",
              "      (bn2): Identity()\n",
              "    )\n",
              "    (2): BasicBlock(\n",
              "      (conv1): Conv2d(256, 256, kernel_size=(3, 3), stride=(1, 1), padding=(1, 1))\n",
              "      (bn1): Identity()\n",
              "      (relu): ReLU(inplace=True)\n",
              "      (conv2): Conv2d(256, 256, kernel_size=(3, 3), stride=(1, 1), padding=(1, 1))\n",
              "      (bn2): Identity()\n",
              "    )\n",
              "    (3): BasicBlock(\n",
              "      (conv1): Conv2d(256, 256, kernel_size=(3, 3), stride=(1, 1), padding=(1, 1))\n",
              "      (bn1): Identity()\n",
              "      (relu): ReLU(inplace=True)\n",
              "      (conv2): Conv2d(256, 256, kernel_size=(3, 3), stride=(1, 1), padding=(1, 1))\n",
              "      (bn2): Identity()\n",
              "    )\n",
              "    (4): BasicBlock(\n",
              "      (conv1): Conv2d(256, 256, kernel_size=(3, 3), stride=(1, 1), padding=(1, 1))\n",
              "      (bn1): Identity()\n",
              "      (relu): ReLU(inplace=True)\n",
              "      (conv2): Conv2d(256, 256, kernel_size=(3, 3), stride=(1, 1), padding=(1, 1))\n",
              "      (bn2): Identity()\n",
              "    )\n",
              "  )\n",
              "  (layer4): Sequential(\n",
              "    (0): ConvBlock(\n",
              "      (conv1): Conv2d(256, 512, kernel_size=(3, 3), stride=(2, 2), padding=(1, 1))\n",
              "      (bn1): Identity()\n",
              "      (relu): ReLU(inplace=True)\n",
              "    )\n",
              "    (1): BasicBlock(\n",
              "      (conv1): Conv2d(512, 512, kernel_size=(3, 3), stride=(1, 1), padding=(1, 1))\n",
              "      (bn1): Identity()\n",
              "      (relu): ReLU(inplace=True)\n",
              "      (conv2): Conv2d(512, 512, kernel_size=(3, 3), stride=(1, 1), padding=(1, 1))\n",
              "      (bn2): Identity()\n",
              "    )\n",
              "  )\n",
              "  (dropout): Dropout(p=0.0, inplace=False)\n",
              "  (fc): Linear(in_features=25088, out_features=512, bias=True)\n",
              ")"
            ]
          },
          "metadata": {},
          "execution_count": 20
        }
      ],
      "source": [
        "base_model = sfnet.sfnet20().to(device)\n",
        "base_model.load_state_dict(new_state_dict)\n",
        "base_model.eval()"
      ]
    },
    {
      "cell_type": "code",
      "execution_count": null,
      "metadata": {
        "colab": {
          "base_uri": "https://localhost:8080/"
        },
        "id": "eSSxqmjEs5TT",
        "outputId": "41daf58b-8f6d-468f-b40c-e3c694da81b4"
      },
      "outputs": [
        {
          "output_type": "execute_result",
          "data": {
            "text/plain": [
              "Linear(in_features=25088, out_features=512, bias=True)"
            ]
          },
          "metadata": {},
          "execution_count": 21
        }
      ],
      "source": [
        "base_model.fc"
      ]
    },
    {
      "cell_type": "markdown",
      "metadata": {
        "id": "4M3O9l4lqddQ"
      },
      "source": [
        "\n",
        "\n",
        "> Freeze all the parameters except the last layer\n",
        "\n"
      ]
    },
    {
      "cell_type": "code",
      "execution_count": null,
      "metadata": {
        "colab": {
          "base_uri": "https://localhost:8080/"
        },
        "id": "Sk0VPeOBtar3",
        "outputId": "41a9c141-b1be-4032-c7f3-2f613caaa2ca"
      },
      "outputs": [
        {
          "output_type": "stream",
          "name": "stderr",
          "text": [
            "/usr/local/lib/python3.10/dist-packages/torchinfo/torchinfo.py:477: UserWarning: TypedStorage is deprecated. It will be removed in the future and UntypedStorage will be the only storage class. This should only matter to you if you are using storages directly.  To access UntypedStorage directly, use tensor.untyped_storage() instead of tensor.storage()\n",
            "  action_fn=lambda data: sys.getsizeof(data.storage()),\n",
            "/usr/local/lib/python3.10/dist-packages/torch/storage.py:665: UserWarning: TypedStorage is deprecated. It will be removed in the future and UntypedStorage will be the only storage class. This should only matter to you if you are using storages directly.  To access UntypedStorage directly, use tensor.untyped_storage() instead of tensor.storage()\n",
            "  return super().__sizeof__() + self.nbytes()\n"
          ]
        },
        {
          "output_type": "execute_result",
          "data": {
            "text/plain": [
              "========================================================================================================================\n",
              "Layer (type (var_name))                  Input Shape          Output Shape         Param #              Trainable\n",
              "========================================================================================================================\n",
              "SFNet (SFNet)                            [1, 3, 112, 112]     [1, 512]             --                   True\n",
              "├─Sequential (layer1)                    [1, 3, 112, 112]     [1, 64, 56, 56]      --                   True\n",
              "│    └─ConvBlock (0)                     [1, 3, 112, 112]     [1, 64, 56, 56]      --                   True\n",
              "│    │    └─Conv2d (conv1)               [1, 3, 112, 112]     [1, 64, 56, 56]      1,792                True\n",
              "│    │    └─Identity (bn1)               [1, 64, 56, 56]      [1, 64, 56, 56]      --                   --\n",
              "│    │    └─ReLU (relu)                  [1, 64, 56, 56]      [1, 64, 56, 56]      --                   --\n",
              "│    └─BasicBlock (1)                    [1, 64, 56, 56]      [1, 64, 56, 56]      --                   True\n",
              "│    │    └─Conv2d (conv1)               [1, 64, 56, 56]      [1, 64, 56, 56]      36,928               True\n",
              "│    │    └─Identity (bn1)               [1, 64, 56, 56]      [1, 64, 56, 56]      --                   --\n",
              "│    │    └─ReLU (relu)                  [1, 64, 56, 56]      [1, 64, 56, 56]      --                   --\n",
              "│    │    └─Conv2d (conv2)               [1, 64, 56, 56]      [1, 64, 56, 56]      36,928               True\n",
              "│    │    └─Identity (bn2)               [1, 64, 56, 56]      [1, 64, 56, 56]      --                   --\n",
              "│    │    └─ReLU (relu)                  [1, 64, 56, 56]      [1, 64, 56, 56]      --                   --\n",
              "├─Sequential (layer2)                    [1, 64, 56, 56]      [1, 128, 28, 28]     --                   True\n",
              "│    └─ConvBlock (0)                     [1, 64, 56, 56]      [1, 128, 28, 28]     --                   True\n",
              "│    │    └─Conv2d (conv1)               [1, 64, 56, 56]      [1, 128, 28, 28]     73,856               True\n",
              "│    │    └─Identity (bn1)               [1, 128, 28, 28]     [1, 128, 28, 28]     --                   --\n",
              "│    │    └─ReLU (relu)                  [1, 128, 28, 28]     [1, 128, 28, 28]     --                   --\n",
              "│    └─BasicBlock (1)                    [1, 128, 28, 28]     [1, 128, 28, 28]     --                   True\n",
              "│    │    └─Conv2d (conv1)               [1, 128, 28, 28]     [1, 128, 28, 28]     147,584              True\n",
              "│    │    └─Identity (bn1)               [1, 128, 28, 28]     [1, 128, 28, 28]     --                   --\n",
              "│    │    └─ReLU (relu)                  [1, 128, 28, 28]     [1, 128, 28, 28]     --                   --\n",
              "│    │    └─Conv2d (conv2)               [1, 128, 28, 28]     [1, 128, 28, 28]     147,584              True\n",
              "│    │    └─Identity (bn2)               [1, 128, 28, 28]     [1, 128, 28, 28]     --                   --\n",
              "│    │    └─ReLU (relu)                  [1, 128, 28, 28]     [1, 128, 28, 28]     --                   --\n",
              "│    └─BasicBlock (2)                    [1, 128, 28, 28]     [1, 128, 28, 28]     --                   True\n",
              "│    │    └─Conv2d (conv1)               [1, 128, 28, 28]     [1, 128, 28, 28]     147,584              True\n",
              "│    │    └─Identity (bn1)               [1, 128, 28, 28]     [1, 128, 28, 28]     --                   --\n",
              "│    │    └─ReLU (relu)                  [1, 128, 28, 28]     [1, 128, 28, 28]     --                   --\n",
              "│    │    └─Conv2d (conv2)               [1, 128, 28, 28]     [1, 128, 28, 28]     147,584              True\n",
              "│    │    └─Identity (bn2)               [1, 128, 28, 28]     [1, 128, 28, 28]     --                   --\n",
              "│    │    └─ReLU (relu)                  [1, 128, 28, 28]     [1, 128, 28, 28]     --                   --\n",
              "├─Sequential (layer3)                    [1, 128, 28, 28]     [1, 256, 14, 14]     --                   True\n",
              "│    └─ConvBlock (0)                     [1, 128, 28, 28]     [1, 256, 14, 14]     --                   True\n",
              "│    │    └─Conv2d (conv1)               [1, 128, 28, 28]     [1, 256, 14, 14]     295,168              True\n",
              "│    │    └─Identity (bn1)               [1, 256, 14, 14]     [1, 256, 14, 14]     --                   --\n",
              "│    │    └─ReLU (relu)                  [1, 256, 14, 14]     [1, 256, 14, 14]     --                   --\n",
              "│    └─BasicBlock (1)                    [1, 256, 14, 14]     [1, 256, 14, 14]     --                   True\n",
              "│    │    └─Conv2d (conv1)               [1, 256, 14, 14]     [1, 256, 14, 14]     590,080              True\n",
              "│    │    └─Identity (bn1)               [1, 256, 14, 14]     [1, 256, 14, 14]     --                   --\n",
              "│    │    └─ReLU (relu)                  [1, 256, 14, 14]     [1, 256, 14, 14]     --                   --\n",
              "│    │    └─Conv2d (conv2)               [1, 256, 14, 14]     [1, 256, 14, 14]     590,080              True\n",
              "│    │    └─Identity (bn2)               [1, 256, 14, 14]     [1, 256, 14, 14]     --                   --\n",
              "│    │    └─ReLU (relu)                  [1, 256, 14, 14]     [1, 256, 14, 14]     --                   --\n",
              "│    └─BasicBlock (2)                    [1, 256, 14, 14]     [1, 256, 14, 14]     --                   True\n",
              "│    │    └─Conv2d (conv1)               [1, 256, 14, 14]     [1, 256, 14, 14]     590,080              True\n",
              "│    │    └─Identity (bn1)               [1, 256, 14, 14]     [1, 256, 14, 14]     --                   --\n",
              "│    │    └─ReLU (relu)                  [1, 256, 14, 14]     [1, 256, 14, 14]     --                   --\n",
              "│    │    └─Conv2d (conv2)               [1, 256, 14, 14]     [1, 256, 14, 14]     590,080              True\n",
              "│    │    └─Identity (bn2)               [1, 256, 14, 14]     [1, 256, 14, 14]     --                   --\n",
              "│    │    └─ReLU (relu)                  [1, 256, 14, 14]     [1, 256, 14, 14]     --                   --\n",
              "│    └─BasicBlock (3)                    [1, 256, 14, 14]     [1, 256, 14, 14]     --                   True\n",
              "│    │    └─Conv2d (conv1)               [1, 256, 14, 14]     [1, 256, 14, 14]     590,080              True\n",
              "│    │    └─Identity (bn1)               [1, 256, 14, 14]     [1, 256, 14, 14]     --                   --\n",
              "│    │    └─ReLU (relu)                  [1, 256, 14, 14]     [1, 256, 14, 14]     --                   --\n",
              "│    │    └─Conv2d (conv2)               [1, 256, 14, 14]     [1, 256, 14, 14]     590,080              True\n",
              "│    │    └─Identity (bn2)               [1, 256, 14, 14]     [1, 256, 14, 14]     --                   --\n",
              "│    │    └─ReLU (relu)                  [1, 256, 14, 14]     [1, 256, 14, 14]     --                   --\n",
              "│    └─BasicBlock (4)                    [1, 256, 14, 14]     [1, 256, 14, 14]     --                   True\n",
              "│    │    └─Conv2d (conv1)               [1, 256, 14, 14]     [1, 256, 14, 14]     590,080              True\n",
              "│    │    └─Identity (bn1)               [1, 256, 14, 14]     [1, 256, 14, 14]     --                   --\n",
              "│    │    └─ReLU (relu)                  [1, 256, 14, 14]     [1, 256, 14, 14]     --                   --\n",
              "│    │    └─Conv2d (conv2)               [1, 256, 14, 14]     [1, 256, 14, 14]     590,080              True\n",
              "│    │    └─Identity (bn2)               [1, 256, 14, 14]     [1, 256, 14, 14]     --                   --\n",
              "│    │    └─ReLU (relu)                  [1, 256, 14, 14]     [1, 256, 14, 14]     --                   --\n",
              "├─Sequential (layer4)                    [1, 256, 14, 14]     [1, 512, 7, 7]       --                   True\n",
              "│    └─ConvBlock (0)                     [1, 256, 14, 14]     [1, 512, 7, 7]       --                   True\n",
              "│    │    └─Conv2d (conv1)               [1, 256, 14, 14]     [1, 512, 7, 7]       1,180,160            True\n",
              "│    │    └─Identity (bn1)               [1, 512, 7, 7]       [1, 512, 7, 7]       --                   --\n",
              "│    │    └─ReLU (relu)                  [1, 512, 7, 7]       [1, 512, 7, 7]       --                   --\n",
              "│    └─BasicBlock (1)                    [1, 512, 7, 7]       [1, 512, 7, 7]       --                   True\n",
              "│    │    └─Conv2d (conv1)               [1, 512, 7, 7]       [1, 512, 7, 7]       2,359,808            True\n",
              "│    │    └─Identity (bn1)               [1, 512, 7, 7]       [1, 512, 7, 7]       --                   --\n",
              "│    │    └─ReLU (relu)                  [1, 512, 7, 7]       [1, 512, 7, 7]       --                   --\n",
              "│    │    └─Conv2d (conv2)               [1, 512, 7, 7]       [1, 512, 7, 7]       2,359,808            True\n",
              "│    │    └─Identity (bn2)               [1, 512, 7, 7]       [1, 512, 7, 7]       --                   --\n",
              "│    │    └─ReLU (relu)                  [1, 512, 7, 7]       [1, 512, 7, 7]       --                   --\n",
              "├─Dropout (dropout)                      [1, 25088]           [1, 25088]           --                   --\n",
              "├─Linear (fc)                            [1, 25088]           [1, 512]             12,845,568           True\n",
              "├─Identity (features)                    [1, 512]             [1, 512]             --                   --\n",
              "========================================================================================================================\n",
              "Total params: 24,500,992\n",
              "Trainable params: 24,500,992\n",
              "Non-trainable params: 0\n",
              "Total mult-adds (G): 2.04\n",
              "========================================================================================================================\n",
              "Input size (MB): 0.15\n",
              "Forward/backward pass size (MB): 13.05\n",
              "Params size (MB): 98.00\n",
              "Estimated Total Size (MB): 111.20\n",
              "========================================================================================================================"
            ]
          },
          "metadata": {},
          "execution_count": 22
        }
      ],
      "source": [
        "from torchinfo import summary\n",
        "\n",
        "summary(model=base_model,\n",
        "        input_size=(1, 3, 112, 112), # example of [batch_size, color_channels, height, width]\n",
        "        col_names=[\"input_size\", \"output_size\", \"num_params\", \"trainable\"],\n",
        "        col_width=20,\n",
        "        row_settings=[\"var_names\"])"
      ]
    },
    {
      "cell_type": "code",
      "execution_count": null,
      "metadata": {
        "id": "AEH-e_t1ueaI"
      },
      "outputs": [],
      "source": [
        "# Freeze all of layers in the base model\n",
        "for param in base_model.parameters():\n",
        "  # print(param)\n",
        "  param.requires_grad = False\n",
        "# Unfreeze the last layer:\n",
        "for param in base_model.fc.parameters():\n",
        "  # print(param)\n",
        "  param.requires_grad = True"
      ]
    },
    {
      "cell_type": "code",
      "execution_count": null,
      "metadata": {
        "colab": {
          "base_uri": "https://localhost:8080/"
        },
        "id": "5dFzQV-8wRV3",
        "outputId": "184eba4c-65d7-4ef8-b188-892c59b962a8"
      },
      "outputs": [
        {
          "output_type": "execute_result",
          "data": {
            "text/plain": [
              "========================================================================================================================\n",
              "Layer (type (var_name))                  Input Shape          Output Shape         Param #              Trainable\n",
              "========================================================================================================================\n",
              "SFNet (SFNet)                            [1, 3, 112, 112]     [1, 512]             --                   Partial\n",
              "├─Sequential (layer1)                    [1, 3, 112, 112]     [1, 64, 56, 56]      --                   False\n",
              "│    └─ConvBlock (0)                     [1, 3, 112, 112]     [1, 64, 56, 56]      --                   False\n",
              "│    │    └─Conv2d (conv1)               [1, 3, 112, 112]     [1, 64, 56, 56]      (1,792)              False\n",
              "│    │    └─Identity (bn1)               [1, 64, 56, 56]      [1, 64, 56, 56]      --                   --\n",
              "│    │    └─ReLU (relu)                  [1, 64, 56, 56]      [1, 64, 56, 56]      --                   --\n",
              "│    └─BasicBlock (1)                    [1, 64, 56, 56]      [1, 64, 56, 56]      --                   False\n",
              "│    │    └─Conv2d (conv1)               [1, 64, 56, 56]      [1, 64, 56, 56]      (36,928)             False\n",
              "│    │    └─Identity (bn1)               [1, 64, 56, 56]      [1, 64, 56, 56]      --                   --\n",
              "│    │    └─ReLU (relu)                  [1, 64, 56, 56]      [1, 64, 56, 56]      --                   --\n",
              "│    │    └─Conv2d (conv2)               [1, 64, 56, 56]      [1, 64, 56, 56]      (36,928)             False\n",
              "│    │    └─Identity (bn2)               [1, 64, 56, 56]      [1, 64, 56, 56]      --                   --\n",
              "│    │    └─ReLU (relu)                  [1, 64, 56, 56]      [1, 64, 56, 56]      --                   --\n",
              "├─Sequential (layer2)                    [1, 64, 56, 56]      [1, 128, 28, 28]     --                   False\n",
              "│    └─ConvBlock (0)                     [1, 64, 56, 56]      [1, 128, 28, 28]     --                   False\n",
              "│    │    └─Conv2d (conv1)               [1, 64, 56, 56]      [1, 128, 28, 28]     (73,856)             False\n",
              "│    │    └─Identity (bn1)               [1, 128, 28, 28]     [1, 128, 28, 28]     --                   --\n",
              "│    │    └─ReLU (relu)                  [1, 128, 28, 28]     [1, 128, 28, 28]     --                   --\n",
              "│    └─BasicBlock (1)                    [1, 128, 28, 28]     [1, 128, 28, 28]     --                   False\n",
              "│    │    └─Conv2d (conv1)               [1, 128, 28, 28]     [1, 128, 28, 28]     (147,584)            False\n",
              "│    │    └─Identity (bn1)               [1, 128, 28, 28]     [1, 128, 28, 28]     --                   --\n",
              "│    │    └─ReLU (relu)                  [1, 128, 28, 28]     [1, 128, 28, 28]     --                   --\n",
              "│    │    └─Conv2d (conv2)               [1, 128, 28, 28]     [1, 128, 28, 28]     (147,584)            False\n",
              "│    │    └─Identity (bn2)               [1, 128, 28, 28]     [1, 128, 28, 28]     --                   --\n",
              "│    │    └─ReLU (relu)                  [1, 128, 28, 28]     [1, 128, 28, 28]     --                   --\n",
              "│    └─BasicBlock (2)                    [1, 128, 28, 28]     [1, 128, 28, 28]     --                   False\n",
              "│    │    └─Conv2d (conv1)               [1, 128, 28, 28]     [1, 128, 28, 28]     (147,584)            False\n",
              "│    │    └─Identity (bn1)               [1, 128, 28, 28]     [1, 128, 28, 28]     --                   --\n",
              "│    │    └─ReLU (relu)                  [1, 128, 28, 28]     [1, 128, 28, 28]     --                   --\n",
              "│    │    └─Conv2d (conv2)               [1, 128, 28, 28]     [1, 128, 28, 28]     (147,584)            False\n",
              "│    │    └─Identity (bn2)               [1, 128, 28, 28]     [1, 128, 28, 28]     --                   --\n",
              "│    │    └─ReLU (relu)                  [1, 128, 28, 28]     [1, 128, 28, 28]     --                   --\n",
              "├─Sequential (layer3)                    [1, 128, 28, 28]     [1, 256, 14, 14]     --                   False\n",
              "│    └─ConvBlock (0)                     [1, 128, 28, 28]     [1, 256, 14, 14]     --                   False\n",
              "│    │    └─Conv2d (conv1)               [1, 128, 28, 28]     [1, 256, 14, 14]     (295,168)            False\n",
              "│    │    └─Identity (bn1)               [1, 256, 14, 14]     [1, 256, 14, 14]     --                   --\n",
              "│    │    └─ReLU (relu)                  [1, 256, 14, 14]     [1, 256, 14, 14]     --                   --\n",
              "│    └─BasicBlock (1)                    [1, 256, 14, 14]     [1, 256, 14, 14]     --                   False\n",
              "│    │    └─Conv2d (conv1)               [1, 256, 14, 14]     [1, 256, 14, 14]     (590,080)            False\n",
              "│    │    └─Identity (bn1)               [1, 256, 14, 14]     [1, 256, 14, 14]     --                   --\n",
              "│    │    └─ReLU (relu)                  [1, 256, 14, 14]     [1, 256, 14, 14]     --                   --\n",
              "│    │    └─Conv2d (conv2)               [1, 256, 14, 14]     [1, 256, 14, 14]     (590,080)            False\n",
              "│    │    └─Identity (bn2)               [1, 256, 14, 14]     [1, 256, 14, 14]     --                   --\n",
              "│    │    └─ReLU (relu)                  [1, 256, 14, 14]     [1, 256, 14, 14]     --                   --\n",
              "│    └─BasicBlock (2)                    [1, 256, 14, 14]     [1, 256, 14, 14]     --                   False\n",
              "│    │    └─Conv2d (conv1)               [1, 256, 14, 14]     [1, 256, 14, 14]     (590,080)            False\n",
              "│    │    └─Identity (bn1)               [1, 256, 14, 14]     [1, 256, 14, 14]     --                   --\n",
              "│    │    └─ReLU (relu)                  [1, 256, 14, 14]     [1, 256, 14, 14]     --                   --\n",
              "│    │    └─Conv2d (conv2)               [1, 256, 14, 14]     [1, 256, 14, 14]     (590,080)            False\n",
              "│    │    └─Identity (bn2)               [1, 256, 14, 14]     [1, 256, 14, 14]     --                   --\n",
              "│    │    └─ReLU (relu)                  [1, 256, 14, 14]     [1, 256, 14, 14]     --                   --\n",
              "│    └─BasicBlock (3)                    [1, 256, 14, 14]     [1, 256, 14, 14]     --                   False\n",
              "│    │    └─Conv2d (conv1)               [1, 256, 14, 14]     [1, 256, 14, 14]     (590,080)            False\n",
              "│    │    └─Identity (bn1)               [1, 256, 14, 14]     [1, 256, 14, 14]     --                   --\n",
              "│    │    └─ReLU (relu)                  [1, 256, 14, 14]     [1, 256, 14, 14]     --                   --\n",
              "│    │    └─Conv2d (conv2)               [1, 256, 14, 14]     [1, 256, 14, 14]     (590,080)            False\n",
              "│    │    └─Identity (bn2)               [1, 256, 14, 14]     [1, 256, 14, 14]     --                   --\n",
              "│    │    └─ReLU (relu)                  [1, 256, 14, 14]     [1, 256, 14, 14]     --                   --\n",
              "│    └─BasicBlock (4)                    [1, 256, 14, 14]     [1, 256, 14, 14]     --                   False\n",
              "│    │    └─Conv2d (conv1)               [1, 256, 14, 14]     [1, 256, 14, 14]     (590,080)            False\n",
              "│    │    └─Identity (bn1)               [1, 256, 14, 14]     [1, 256, 14, 14]     --                   --\n",
              "│    │    └─ReLU (relu)                  [1, 256, 14, 14]     [1, 256, 14, 14]     --                   --\n",
              "│    │    └─Conv2d (conv2)               [1, 256, 14, 14]     [1, 256, 14, 14]     (590,080)            False\n",
              "│    │    └─Identity (bn2)               [1, 256, 14, 14]     [1, 256, 14, 14]     --                   --\n",
              "│    │    └─ReLU (relu)                  [1, 256, 14, 14]     [1, 256, 14, 14]     --                   --\n",
              "├─Sequential (layer4)                    [1, 256, 14, 14]     [1, 512, 7, 7]       --                   False\n",
              "│    └─ConvBlock (0)                     [1, 256, 14, 14]     [1, 512, 7, 7]       --                   False\n",
              "│    │    └─Conv2d (conv1)               [1, 256, 14, 14]     [1, 512, 7, 7]       (1,180,160)          False\n",
              "│    │    └─Identity (bn1)               [1, 512, 7, 7]       [1, 512, 7, 7]       --                   --\n",
              "│    │    └─ReLU (relu)                  [1, 512, 7, 7]       [1, 512, 7, 7]       --                   --\n",
              "│    └─BasicBlock (1)                    [1, 512, 7, 7]       [1, 512, 7, 7]       --                   False\n",
              "│    │    └─Conv2d (conv1)               [1, 512, 7, 7]       [1, 512, 7, 7]       (2,359,808)          False\n",
              "│    │    └─Identity (bn1)               [1, 512, 7, 7]       [1, 512, 7, 7]       --                   --\n",
              "│    │    └─ReLU (relu)                  [1, 512, 7, 7]       [1, 512, 7, 7]       --                   --\n",
              "│    │    └─Conv2d (conv2)               [1, 512, 7, 7]       [1, 512, 7, 7]       (2,359,808)          False\n",
              "│    │    └─Identity (bn2)               [1, 512, 7, 7]       [1, 512, 7, 7]       --                   --\n",
              "│    │    └─ReLU (relu)                  [1, 512, 7, 7]       [1, 512, 7, 7]       --                   --\n",
              "├─Dropout (dropout)                      [1, 25088]           [1, 25088]           --                   --\n",
              "├─Linear (fc)                            [1, 25088]           [1, 512]             12,845,568           True\n",
              "├─Identity (features)                    [1, 512]             [1, 512]             --                   --\n",
              "========================================================================================================================\n",
              "Total params: 24,500,992\n",
              "Trainable params: 12,845,568\n",
              "Non-trainable params: 11,655,424\n",
              "Total mult-adds (G): 2.04\n",
              "========================================================================================================================\n",
              "Input size (MB): 0.15\n",
              "Forward/backward pass size (MB): 13.05\n",
              "Params size (MB): 98.00\n",
              "Estimated Total Size (MB): 111.20\n",
              "========================================================================================================================"
            ]
          },
          "metadata": {},
          "execution_count": 24
        }
      ],
      "source": [
        "summary(model=base_model,\n",
        "        input_size=(1, 3, 112, 112), # example of [batch_size, color_channels, height, width]\n",
        "        col_names=[\"input_size\", \"output_size\", \"num_params\", \"trainable\"],\n",
        "        col_width=20,\n",
        "        row_settings=[\"var_names\"])"
      ]
    },
    {
      "cell_type": "markdown",
      "metadata": {
        "id": "hcqDwc91rAOZ"
      },
      "source": [
        "\n",
        "\n",
        "> Initialize the SphereFace2 loss function\n",
        "\n"
      ]
    },
    {
      "cell_type": "code",
      "execution_count": null,
      "metadata": {
        "colab": {
          "base_uri": "https://localhost:8080/"
        },
        "id": "ejP5zkwuw6Zu",
        "outputId": "38081179-8ab2-4383-e4f2-09c1a62602e7"
      },
      "outputs": [
        {
          "output_type": "execute_result",
          "data": {
            "text/plain": [
              "417793"
            ]
          },
          "metadata": {},
          "execution_count": 25
        }
      ],
      "source": [
        "head_module = sphereface2.SphereFace2(512, class_num).to(device)\n",
        "# Number of trainable parameters of SphereFace2 head:\n",
        "sum(p.numel() for p in head_module.parameters())"
      ]
    },
    {
      "cell_type": "code",
      "execution_count": null,
      "metadata": {
        "id": "jPP7uMmx3X8z"
      },
      "outputs": [],
      "source": [
        "# Concatenate parameters from base model and SphereFace2 head into a list\n",
        "trainable_parameters = list(base_model.parameters()) + list(head_module.parameters())\n",
        "trainable_parameters"
      ]
    },
    {
      "cell_type": "markdown",
      "metadata": {
        "id": "MyyhdP1orzY3"
      },
      "source": [
        "\n",
        "\n",
        "> Define the optimizer and train the model\n",
        "\n"
      ]
    },
    {
      "cell_type": "code",
      "execution_count": null,
      "metadata": {
        "id": "QYXYxgWrgxiO"
      },
      "outputs": [],
      "source": [
        "optimizer = torch.optim.SGD(params=trainable_parameters, # we want to optimize the parameters present in our model\n",
        "                            lr=0.01, # lr = learning rate = possibly the most important hyperparameter you can set\n",
        "                            momentum=0.9,\n",
        "                            weight_decay=0.0005)\n",
        "loss_fn = head_module"
      ]
    },
    {
      "cell_type": "code",
      "execution_count": null,
      "metadata": {
        "id": "0wIiP-A-3DYM"
      },
      "outputs": [],
      "source": [
        "checkpoint_dir = data_path + '/sfnet20_train'\n",
        "if not os.path.exists(checkpoint_dir):\n",
        "    os.mkdir(checkpoint_dir)\n",
        "train_checkpoint_path = os.path.join(checkpoint_dir, 'checkpoint.pt')\n",
        "best_train_checkpoint_path = os.path.join(checkpoint_dir, 'best_checkpoint.pt')\n",
        "train_loss_checkpoint_path = os.path.join(checkpoint_dir, 'loss_checkpoint.pt')"
      ]
    },
    {
      "cell_type": "code",
      "execution_count": null,
      "metadata": {
        "id": "GPLgDguN2c2y"
      },
      "outputs": [],
      "source": [
        "# Initialize the checkpoint if no checkpoint found\n",
        "if not os.path.exists(train_checkpoint_path):\n",
        "    torch.save({\n",
        "            'epoch': 0,\n",
        "            'model_state_dict': base_model.state_dict(),\n",
        "            'head_state_dict': loss_fn.state_dict(),\n",
        "            'optimizer_state_dict': optimizer.state_dict(),\n",
        "            }, train_checkpoint_path)\n",
        "if not os.path.exists(train_loss_checkpoint_path):\n",
        "    torch.save([], train_loss_checkpoint_path)"
      ]
    },
    {
      "cell_type": "code",
      "execution_count": null,
      "metadata": {
        "colab": {
          "base_uri": "https://localhost:8080/",
          "referenced_widgets": [
            "1769d210d1414ad980c8407ad655e5ee",
            "f0386716acf8422db9f48408e12a4303",
            "9f37559d84b64fd898d1bcf2d19acb50",
            "10ed4b840ad341659f143aec58f28754",
            "5545a417227e4a13b42e677de311f26d",
            "cc0b7905a2cd4a338e4f3333d3a6e2ab",
            "9b97411e3b8c4939b6fd8486253d1113",
            "c405c6358bb34dcc8cd45497133fc25e",
            "9b6102cd2b6f4b2ea10a793269aec915",
            "cd1eaf3ce21f4e50a2780255211444b7",
            "7a246cb8eeed463dbaa129d8248456f5"
          ]
        },
        "id": "22-pXeiAhoNT",
        "outputId": "00b8f78c-942a-4441-8f60-9ad32e13c2c4"
      },
      "outputs": [
        {
          "output_type": "display_data",
          "data": {
            "text/plain": [
              "0it [00:00, ?it/s]"
            ],
            "application/vnd.jupyter.widget-view+json": {
              "version_major": 2,
              "version_minor": 0,
              "model_id": "1769d210d1414ad980c8407ad655e5ee"
            }
          },
          "metadata": {}
        },
        {
          "output_type": "stream",
          "name": "stdout",
          "text": [
            "[INFO] Total training time: 2.006 seconds\n"
          ]
        }
      ],
      "source": [
        "# Set the manual seeds\n",
        "torch.manual_seed(42)\n",
        "torch.cuda.manual_seed(42)\n",
        "\n",
        "# Start the timer\n",
        "from timeit import default_timer as timer\n",
        "start_time = timer()\n",
        "\n",
        "# Setup training and save the results\n",
        "results = train(model=base_model,\n",
        "                train_dataloader=train_dataloader,\n",
        "                optimizer=optimizer,\n",
        "                loss_fn=loss_fn,\n",
        "                epochs=500,\n",
        "                device=device,\n",
        "                train_checkpoint_path=train_checkpoint_path,\n",
        "                train_loss_checkpoint_path=train_loss_checkpoint_path,\n",
        "                best_train_checkpoint_path=best_train_checkpoint_path)\n",
        "\n",
        "# End the timer and print out how long it took\n",
        "end_time = timer()\n",
        "print(f\"[INFO] Total training time: {end_time-start_time:.3f} seconds\")"
      ]
    },
    {
      "cell_type": "markdown",
      "metadata": {
        "id": "v5dKIUdAr9Oa"
      },
      "source": [
        "\n",
        "\n",
        "> Visualize\n",
        "\n"
      ]
    },
    {
      "cell_type": "code",
      "execution_count": null,
      "metadata": {
        "colab": {
          "base_uri": "https://localhost:8080/"
        },
        "id": "X3565kUoAMuI",
        "outputId": "19e52183-19e8-415b-f2bb-73cffbc00178"
      },
      "outputs": [
        {
          "output_type": "display_data",
          "data": {
            "text/plain": [
              "<Figure size 3000x700 with 1 Axes>"
            ],
            "image/png": "[encoded data removed]"
          },
          "metadata": {}
        }
      ],
      "source": [
        "train_loss = torch.load(train_loss_checkpoint_path)\n",
        "plot_loss_curves(train_loss)"
      ]
    },
    {
      "cell_type": "code",
      "execution_count": null,
      "metadata": {
        "colab": {
          "base_uri": "https://localhost:8080/"
        },
        "id": "JKBWOV8yA9z-",
        "outputId": "17c5bc21-9b29-46bf-a284-f0f050312b59"
      },
      "outputs": [
        {
          "output_type": "execute_result",
          "data": {
            "text/plain": [
              "494"
            ]
          },
          "metadata": {},
          "execution_count": 32
        }
      ],
      "source": [
        "best_result = torch.load(best_train_checkpoint_path)\n",
        "best_result['epoch']"
      ]
    },
    {
      "cell_type": "code",
      "execution_count": null,
      "metadata": {
        "colab": {
          "base_uri": "https://localhost:8080/"
        },
        "id": "olX9bEm1SxYk",
        "outputId": "2a2fdb59-7230-49ec-a37c-94dbe820a662"
      },
      "outputs": [
        {
          "output_type": "execute_result",
          "data": {
            "text/plain": [
              "<All keys matched successfully>"
            ]
          },
          "metadata": {},
          "execution_count": 33
        }
      ],
      "source": [
        "base_model.load_state_dict(best_result['model_state_dict'])"
      ]
    },
    {
      "cell_type": "code",
      "source": [
        "test_checkpoint_path = os.path.join(checkpoint_dir, 'test_checkpoint.pt')\n",
        "if not os.path.exists(test_checkpoint_path):\n",
        "    thresholds, tpr, fpr, acc = test_step(model=base_model, \n",
        "                          dataloader=test_dataloader, \n",
        "                          device=device)\n",
        "    torch.save({\n",
        "        'thresholds': thresholds,\n",
        "        'tpr': tpr,\n",
        "        'fpr': fpr,\n",
        "        'accuracy': acc\n",
        "    }, test_checkpoint_path)\n",
        "else:\n",
        "    test_result = torch.load(test_checkpoint_path)\n",
        "    thresholds = test_result['thresholds']\n",
        "    tpr = test_result['tpr']\n",
        "    fpr = test_result['fpr']\n",
        "    acc = test_result['accuracy']"
      ],
      "metadata": {
        "id": "x4ZrwDfLlnj-"
      },
      "execution_count": null,
      "outputs": []
    },
    {
      "cell_type": "code",
      "execution_count": null,
      "metadata": {
        "colab": {
          "base_uri": "https://localhost:8080/"
        },
        "id": "91oMOiMaHjdg",
        "outputId": "836bfe88-7de3-4a95-da27-52742a04f1df"
      },
      "outputs": [
        {
          "output_type": "display_data",
          "data": {
            "text/plain": [
              "<Figure size 640x480 with 1 Axes>"
            ],
            "image/png": "[encoded data removed]"
          },
          "metadata": {}
        }
      ],
      "source": [
        "# plot the roc curve for the model\n",
        "plt.plot(fpr.cpu(), tpr.cpu(), marker='.', label='ROC curve')\n",
        "# axis labels\n",
        "plt.xlabel('False Positive Rate')\n",
        "plt.ylabel('True Positive Rate')\n",
        "# show the legend\n",
        "plt.legend()\n",
        "# show the plot\n",
        "plt.show()"
      ]
    },
    {
      "cell_type": "code",
      "execution_count": null,
      "metadata": {
        "colab": {
          "base_uri": "https://localhost:8080/"
        },
        "id": "PRiVICeCIhXT",
        "outputId": "84fb81ca-fc9b-4f7d-bd1c-eeffb9a74a97"
      },
      "outputs": [
        {
          "output_type": "display_data",
          "data": {
            "text/plain": [
              "<Figure size 640x480 with 1 Axes>"
            ],
            "image/png": "[encoded data removed]"
          },
          "metadata": {}
        }
      ],
      "source": [
        "# plot the accuracy w.r.t threshold for the model\n",
        "plt.plot(thresholds.cpu(), acc.cpu(), marker='.', label='Accuracy')\n",
        "# axis labels\n",
        "plt.xlabel('Threshold')\n",
        "plt.ylabel('Accuracy')\n",
        "# show the legend\n",
        "plt.legend()\n",
        "# show the plot\n",
        "plt.show()"
      ]
    },
    {
      "cell_type": "code",
      "execution_count": null,
      "metadata": {
        "colab": {
          "base_uri": "https://localhost:8080/"
        },
        "id": "lDjnqpwTJMgf",
        "outputId": "355304fb-f920-40a0-b558-2cf05988c6d8"
      },
      "outputs": [
        {
          "output_type": "stream",
          "name": "stdout",
          "text": [
            "Best threshold: 0.07000000029802322, Accuracy: 0.7956604361534119\n"
          ]
        }
      ],
      "source": [
        "# choose the best threshold for the model using Youden’s J statistic\n",
        "J = torch.sub(tpr, fpr).cpu()\n",
        "idx = torch.argmax(J)\n",
        "best_thresh = thresholds[idx]\n",
        "best_thresh_acc = acc[idx]\n",
        "print(f'Best threshold: {best_thresh}, Accuracy: {best_thresh_acc}')"
      ]
    },
    {
      "cell_type": "code",
      "source": [
        "threshold_path = os.path.join(checkpoint_dir, 'threshold.pt')\n",
        "if not os.path.exists(threshold_path):\n",
        "    torch.save(best_thresh, threshold_path)"
      ],
      "metadata": {
        "id": "IqQT_WmIlgiC"
      },
      "execution_count": null,
      "outputs": []
    },
    {
      "cell_type": "markdown",
      "source": [
        "## 3. Prepare the model for mobile app"
      ],
      "metadata": {
        "id": "Ede5VTyfpJW_"
      }
    },
    {
      "cell_type": "code",
      "source": [
        "from torch.utils.mobile_optimizer import optimize_for_mobile\n",
        "\n",
        "mobile_model_dir = working_path + '/mobile_model'\n",
        "if not os.path.exists(mobile_model_dir):\n",
        "    os.mkdir(mobile_model_dir)\n",
        "\n",
        "base_model.eval()\n",
        "\n",
        "scripted_model = torch.jit.script(base_model)\n",
        "optimized_model = optimize_for_mobile(scripted_model)\n",
        "optimized_model._save_for_lite_interpreter(os.path.join(mobile_model_dir,\"SFNet20.ptl\"))\n",
        "\n",
        "print(\"model successfully exported\")"
      ],
      "metadata": {
        "id": "EoBHHqbnpeGB",
        "colab": {
          "base_uri": "https://localhost:8080/"
        },
        "outputId": "b26a91da-75ff-43df-f3df-4b486541e0e4"
      },
      "execution_count": null,
      "outputs": [
        {
          "output_type": "stream",
          "name": "stdout",
          "text": [
            "model successfully exported\n"
          ]
        }
      ]
    }
  ],
  "metadata": {
    "accelerator": "GPU",
    "colab": {
      "collapsed_sections": [
        "bf_b-eul2-63",
        "gPSoQLZk-XXy",
        "F_uRXUIFwKJv",
        "JU3IyOcc4eTt"
      ],
      "machine_shape": "hm",
      "provenance": [],
      "gpuType": "T4"
    },
    "gpuClass": "standard",
    "kernelspec": {
      "display_name": "Python 3",
      "name": "python3"
    },
    "language_info": {
      "name": "python"
    },
    "widgets": {
      "application/vnd.jupyter.widget-state+json": {
        "1769d210d1414ad980c8407ad655e5ee": {
          "model_module": "@jupyter-widgets/controls",
          "model_name": "HBoxModel",
          "model_module_version": "1.5.0",
          "state": {
            "_dom_classes": [],
            "_model_module": "@jupyter-widgets/controls",
            "_model_module_version": "1.5.0",
            "_model_name": "HBoxModel",
            "_view_count": null,
            "_view_module": "@jupyter-widgets/controls",
            "_view_module_version": "1.5.0",
            "_view_name": "HBoxView",
            "box_style": "",
            "children": [
              "IPY_MODEL_f0386716acf8422db9f48408e12a4303",
              "IPY_MODEL_9f37559d84b64fd898d1bcf2d19acb50",
              "IPY_MODEL_10ed4b840ad341659f143aec58f28754"
            ],
            "layout": "IPY_MODEL_5545a417227e4a13b42e677de311f26d"
          }
        },
        "f0386716acf8422db9f48408e12a4303": {
          "model_module": "@jupyter-widgets/controls",
          "model_name": "HTMLModel",
          "model_module_version": "1.5.0",
          "state": {
            "_dom_classes": [],
            "_model_module": "@jupyter-widgets/controls",
            "_model_module_version": "1.5.0",
            "_model_name": "HTMLModel",
            "_view_count": null,
            "_view_module": "@jupyter-widgets/controls",
            "_view_module_version": "1.5.0",
            "_view_name": "HTMLView",
            "description": "",
            "description_tooltip": null,
            "layout": "IPY_MODEL_cc0b7905a2cd4a338e4f3333d3a6e2ab",
            "placeholder": "​",
            "style": "IPY_MODEL_9b97411e3b8c4939b6fd8486253d1113",
            "value": ""
          }
        },
        "9f37559d84b64fd898d1bcf2d19acb50": {
          "model_module": "@jupyter-widgets/controls",
          "model_name": "FloatProgressModel",
          "model_module_version": "1.5.0",
          "state": {
            "_dom_classes": [],
            "_model_module": "@jupyter-widgets/controls",
            "_model_module_version": "1.5.0",
            "_model_name": "FloatProgressModel",
            "_view_count": null,
            "_view_module": "@jupyter-widgets/controls",
            "_view_module_version": "1.5.0",
            "_view_name": "ProgressView",
            "bar_style": "success",
            "description": "",
            "description_tooltip": null,
            "layout": "IPY_MODEL_c405c6358bb34dcc8cd45497133fc25e",
            "max": 1,
            "min": 0,
            "orientation": "horizontal",
            "style": "IPY_MODEL_9b6102cd2b6f4b2ea10a793269aec915",
            "value": 0
          }
        },
        "10ed4b840ad341659f143aec58f28754": {
          "model_module": "@jupyter-widgets/controls",
          "model_name": "HTMLModel",
          "model_module_version": "1.5.0",
          "state": {
            "_dom_classes": [],
            "_model_module": "@jupyter-widgets/controls",
            "_model_module_version": "1.5.0",
            "_model_name": "HTMLModel",
            "_view_count": null,
            "_view_module": "@jupyter-widgets/controls",
            "_view_module_version": "1.5.0",
            "_view_name": "HTMLView",
            "description": "",
            "description_tooltip": null,
            "layout": "IPY_MODEL_cd1eaf3ce21f4e50a2780255211444b7",
            "placeholder": "​",
            "style": "IPY_MODEL_7a246cb8eeed463dbaa129d8248456f5",
            "value": " 0/0 [00:00&lt;?, ?it/s]"
          }
        },
        "5545a417227e4a13b42e677de311f26d": {
          "model_module": "@jupyter-widgets/base",
          "model_name": "LayoutModel",
          "model_module_version": "1.2.0",
          "state": {
            "_model_module": "@jupyter-widgets/base",
            "_model_module_version": "1.2.0",
            "_model_name": "LayoutModel",
            "_view_count": null,
            "_view_module": "@jupyter-widgets/base",
            "_view_module_version": "1.2.0",
            "_view_name": "LayoutView",
            "align_content": null,
            "align_items": null,
            "align_self": null,
            "border": null,
            "bottom": null,
            "display": null,
            "flex": null,
            "flex_flow": null,
            "grid_area": null,
            "grid_auto_columns": null,
            "grid_auto_flow": null,
            "grid_auto_rows": null,
            "grid_column": null,
            "grid_gap": null,
            "grid_row": null,
            "grid_template_areas": null,
            "grid_template_columns": null,
            "grid_template_rows": null,
            "height": null,
            "justify_content": null,
            "justify_items": null,
            "left": null,
            "margin": null,
            "max_height": null,
            "max_width": null,
            "min_height": null,
            "min_width": null,
            "object_fit": null,
            "object_position": null,
            "order": null,
            "overflow": null,
            "overflow_x": null,
            "overflow_y": null,
            "padding": null,
            "right": null,
            "top": null,
            "visibility": null,
            "width": null
          }
        },
        "cc0b7905a2cd4a338e4f3333d3a6e2ab": {
          "model_module": "@jupyter-widgets/base",
          "model_name": "LayoutModel",
          "model_module_version": "1.2.0",
          "state": {
            "_model_module": "@jupyter-widgets/base",
            "_model_module_version": "1.2.0",
            "_model_name": "LayoutModel",
            "_view_count": null,
            "_view_module": "@jupyter-widgets/base",
            "_view_module_version": "1.2.0",
            "_view_name": "LayoutView",
            "align_content": null,
            "align_items": null,
            "align_self": null,
            "border": null,
            "bottom": null,
            "display": null,
            "flex": null,
            "flex_flow": null,
            "grid_area": null,
            "grid_auto_columns": null,
            "grid_auto_flow": null,
            "grid_auto_rows": null,
            "grid_column": null,
            "grid_gap": null,
            "grid_row": null,
            "grid_template_areas": null,
            "grid_template_columns": null,
            "grid_template_rows": null,
            "height": null,
            "justify_content": null,
            "justify_items": null,
            "left": null,
            "margin": null,
            "max_height": null,
            "max_width": null,
            "min_height": null,
            "min_width": null,
            "object_fit": null,
            "object_position": null,
            "order": null,
            "overflow": null,
            "overflow_x": null,
            "overflow_y": null,
            "padding": null,
            "right": null,
            "top": null,
            "visibility": null,
            "width": null
          }
        },
        "9b97411e3b8c4939b6fd8486253d1113": {
          "model_module": "@jupyter-widgets/controls",
          "model_name": "DescriptionStyleModel",
          "model_module_version": "1.5.0",
          "state": {
            "_model_module": "@jupyter-widgets/controls",
            "_model_module_version": "1.5.0",
            "_model_name": "DescriptionStyleModel",
            "_view_count": null,
            "_view_module": "@jupyter-widgets/base",
            "_view_module_version": "1.2.0",
            "_view_name": "StyleView",
            "description_width": ""
          }
        },
        "c405c6358bb34dcc8cd45497133fc25e": {
          "model_module": "@jupyter-widgets/base",
          "model_name": "LayoutModel",
          "model_module_version": "1.2.0",
          "state": {
            "_model_module": "@jupyter-widgets/base",
            "_model_module_version": "1.2.0",
            "_model_name": "LayoutModel",
            "_view_count": null,
            "_view_module": "@jupyter-widgets/base",
            "_view_module_version": "1.2.0",
            "_view_name": "LayoutView",
            "align_content": null,
            "align_items": null,
            "align_self": null,
            "border": null,
            "bottom": null,
            "display": null,
            "flex": null,
            "flex_flow": null,
            "grid_area": null,
            "grid_auto_columns": null,
            "grid_auto_flow": null,
            "grid_auto_rows": null,
            "grid_column": null,
            "grid_gap": null,
            "grid_row": null,
            "grid_template_areas": null,
            "grid_template_columns": null,
            "grid_template_rows": null,
            "height": null,
            "justify_content": null,
            "justify_items": null,
            "left": null,
            "margin": null,
            "max_height": null,
            "max_width": null,
            "min_height": null,
            "min_width": null,
            "object_fit": null,
            "object_position": null,
            "order": null,
            "overflow": null,
            "overflow_x": null,
            "overflow_y": null,
            "padding": null,
            "right": null,
            "top": null,
            "visibility": null,
            "width": "20px"
          }
        },
        "9b6102cd2b6f4b2ea10a793269aec915": {
          "model_module": "@jupyter-widgets/controls",
          "model_name": "ProgressStyleModel",
          "model_module_version": "1.5.0",
          "state": {
            "_model_module": "@jupyter-widgets/controls",
            "_model_module_version": "1.5.0",
            "_model_name": "ProgressStyleModel",
            "_view_count": null,
            "_view_module": "@jupyter-widgets/base",
            "_view_module_version": "1.2.0",
            "_view_name": "StyleView",
            "bar_color": null,
            "description_width": ""
          }
        },
        "cd1eaf3ce21f4e50a2780255211444b7": {
          "model_module": "@jupyter-widgets/base",
          "model_name": "LayoutModel",
          "model_module_version": "1.2.0",
          "state": {
            "_model_module": "@jupyter-widgets/base",
            "_model_module_version": "1.2.0",
            "_model_name": "LayoutModel",
            "_view_count": null,
            "_view_module": "@jupyter-widgets/base",
            "_view_module_version": "1.2.0",
            "_view_name": "LayoutView",
            "align_content": null,
            "align_items": null,
            "align_self": null,
            "border": null,
            "bottom": null,
            "display": null,
            "flex": null,
            "flex_flow": null,
            "grid_area": null,
            "grid_auto_columns": null,
            "grid_auto_flow": null,
            "grid_auto_rows": null,
            "grid_column": null,
            "grid_gap": null,
            "grid_row": null,
            "grid_template_areas": null,
            "grid_template_columns": null,
            "grid_template_rows": null,
            "height": null,
            "justify_content": null,
            "justify_items": null,
            "left": null,
            "margin": null,
            "max_height": null,
            "max_width": null,
            "min_height": null,
            "min_width": null,
            "object_fit": null,
            "object_position": null,
            "order": null,
            "overflow": null,
            "overflow_x": null,
            "overflow_y": null,
            "padding": null,
            "right": null,
            "top": null,
            "visibility": null,
            "width": null
          }
        },
        "7a246cb8eeed463dbaa129d8248456f5": {
          "model_module": "@jupyter-widgets/controls",
          "model_name": "DescriptionStyleModel",
          "model_module_version": "1.5.0",
          "state": {
            "_model_module": "@jupyter-widgets/controls",
            "_model_module_version": "1.5.0",
            "_model_name": "DescriptionStyleModel",
            "_view_count": null,
            "_view_module": "@jupyter-widgets/base",
            "_view_module_version": "1.2.0",
            "_view_name": "StyleView",
            "description_width": ""
          }
        }
      }
    }
  },
  "nbformat": 4,
  "nbformat_minor": 0
}